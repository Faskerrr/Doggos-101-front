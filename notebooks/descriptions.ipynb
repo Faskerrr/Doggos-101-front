{
 "cells": [
  {
   "cell_type": "code",
   "execution_count": 2,
   "id": "9c4b16ce",
   "metadata": {
    "ExecuteTime": {
     "end_time": "2023-03-28T07:37:25.231277Z",
     "start_time": "2023-03-28T07:37:24.303578Z"
    }
   },
   "outputs": [],
   "source": [
    "import pandas as pd\n",
    "import os\n",
    "import re\n",
    "import cv2\n"
   ]
  },
  {
   "cell_type": "code",
   "execution_count": 3,
   "id": "bfc12a75",
   "metadata": {
    "ExecuteTime": {
     "end_time": "2023-03-28T07:37:29.355063Z",
     "start_time": "2023-03-28T07:37:29.336654Z"
    }
   },
   "outputs": [],
   "source": [
    "description_data = pd.read_csv('../raw_data/uk_kc_characteristics.csv', index_col='breed_name')"
   ]
  },
  {
   "cell_type": "code",
   "execution_count": 5,
   "id": "40ca32c4",
   "metadata": {
    "ExecuteTime": {
     "end_time": "2023-03-28T07:37:36.528521Z",
     "start_time": "2023-03-28T07:37:36.518929Z"
    }
   },
   "outputs": [],
   "source": [
    "class_names = [re.findall('n\\d{8}-(.*)', item)[0].capitalize() for item in os.listdir(\"../raw_data/cropped/train/\")]"
   ]
  },
  {
   "cell_type": "code",
   "execution_count": 45,
   "id": "adfd87ca",
   "metadata": {
    "ExecuteTime": {
     "end_time": "2023-03-28T08:08:43.162692Z",
     "start_time": "2023-03-28T08:08:43.149961Z"
    }
   },
   "outputs": [],
   "source": [
    "def clean_name(name):\n",
    "    ''' converts dog name to match the names used by the kennel club UK'''\n",
    "    name = name.replace('-and-', ' & ')\n",
    "    name = name.replace('_', ' ')\n",
    "    name = name.replace('-', ' ')\n",
    "    name = ' '.join(map(str.capitalize,name.split(' ')))\n",
    "    \n",
    "    correction_dict = {\n",
    "        'Greater': 'Great',\n",
    "        'Short Haired': 'Shorthaired',\n",
    "        'Long Haired': 'Longhaired',\n",
    "        'Bullterrier': 'Bull Terrier',\n",
    "        'Scotch': 'Scottish',\n",
    "        'Saint': 'St.',\n",
    "        'Bull Mastiff': 'Bullmastiff',\n",
    "        'Great Pyrenees': 'Pyrenean Mountain Dog',\n",
    "        'Standard Schnauzer': 'Schnauzer',\n",
    "        'Japanese Spaniel': 'Japanese Chin',\n",
    "        'Boston Bull': 'Boston Terrier',\n",
    "        'Brabancon Griffon': 'Griffon Bruxellois',\n",
    "        'Haired': '',\n",
    "        'Mexican': 'Mex',\n",
    "        'Pekinese': 'Pekingese',\n",
    "        'Basset': 'Basset Hound',\n",
    "        'Bull Dog': 'Bulldog',\n",
    "        'Schnauzer Standard': 'Schnauzer',\n",
    "        'Blenheim Spaniel': 'King Charles Spaniel'\n",
    "        'Bluetick'\n",
    "    }\n",
    "    for word, correction in correction_dict.items():\n",
    "        name = name.replace(word, correction)\n",
    "    return name"
   ]
  },
  {
   "cell_type": "code",
   "execution_count": 38,
   "id": "8f077d64",
   "metadata": {
    "ExecuteTime": {
     "end_time": "2023-03-28T08:01:15.441126Z",
     "start_time": "2023-03-28T08:01:15.424248Z"
    },
    "scrolled": false
   },
   "outputs": [],
   "source": [
    "def find_exact_kennel_entries(name):\n",
    "''' returns all kennel_club UK entries with indexes that contain ALL words of species_name (order doesn't \n",
    " matter) e.g. Standard Poodle is going to be recognized as Poodle (Standard)'''    \n",
    "    index_in_kennel_data = description_data.index.map(lambda kennel_entry: all(word in kennel_entry for word in name.split()))\n",
    "    return description_data[index_in_kennel_data]"
   ]
  },
  {
   "cell_type": "code",
   "execution_count": 44,
   "id": "5c65b2af",
   "metadata": {
    "ExecuteTime": {
     "end_time": "2023-03-28T08:06:28.120669Z",
     "start_time": "2023-03-28T08:06:28.112486Z"
    }
   },
   "outputs": [],
   "source": [
    "def find_approximate_kennel_entries(name):\n",
    "    ''' # returns kennel_club UK entries with indexes that contains ONE word of species_name ; common words like \"dog\" or \"hound\" are ignored'''\n",
    "    for word in ['Dog', 'English', 'Terrier', 'American', 'Spaniel', 'Haired', 'Wire', 'Japanese', 'Hound', 'Scottish']:\n",
    "        name = name.replace(word, '')\n",
    "    index_in_kennel_data = description_data.index.map(lambda kennel_entry: any(word in kennel_entry for word in name.split()))\n",
    "    return description_data[index_in_kennel_data]"
   ]
  },
  {
   "cell_type": "code",
   "execution_count": 40,
   "id": "c686b345",
   "metadata": {
    "ExecuteTime": {
     "end_time": "2023-03-28T08:01:20.060125Z",
     "start_time": "2023-03-28T08:01:20.049846Z"
    }
   },
   "outputs": [],
   "source": [
    "def get_description(species_name):\n",
    "    cleaned_name = clean_name(species_name)\n",
    "    #print(f'Showing results for {correction} instead of {word}')\n",
    "    if cleaned_name in description_data.index:\n",
    "        return description_data.loc[[cleaned_name],:]\n",
    "    if not find_exact_kennel_entries(cleaned_name).empty:\n",
    "        return find_exact_kennel_entries(cleaned_name)\n",
    "    return find_approximate_kennel_entries(cleaned_name)\n",
    "    "
   ]
  },
  {
   "cell_type": "code",
   "execution_count": 49,
   "id": "5d8d4496",
   "metadata": {
    "ExecuteTime": {
     "end_time": "2023-03-28T08:28:23.429556Z",
     "start_time": "2023-03-28T08:28:23.422801Z"
    },
    "scrolled": true
   },
   "outputs": [],
   "source": [
    "#import matplotlib.pyplot as plt\n",
    "#image_path = \"../raw_data/cropped/train/\"\n",
    "#for folder in os.listdir(image_path):\n",
    "#    file = os.listdir(image_path + folder)[0]\n",
    "#    name = re.findall('n\\d{8}-(.*)', folder)[0]\n",
    "#    abc = os.path.join(image_path, folder, file)\n",
    "#    image= cv2.imread(abc)\n",
    "#    rgb_image = cv2.cvtColor(image, cv2.COLOR_BGR2RGB)\n",
    "#    plt.figure(figsize=(16,8))\n",
    "#    plt.imshow(rgb_image)\n",
    "#    plt.title(f'Class name: {name} \\n Kennel entry: {\",\".join(list(get_description(name).index))}')\n",
    "#    plt.show()\n",
    "#    input(\"Press Enter to continue...\")"
   ]
  },
  {
   "cell_type": "code",
   "execution_count": 46,
   "id": "245157a9",
   "metadata": {
    "ExecuteTime": {
     "end_time": "2023-03-28T08:08:50.217418Z",
     "start_time": "2023-03-28T08:08:50.037077Z"
    }
   },
   "outputs": [
    {
     "data": {
      "text/plain": [
       "{'Chihuahua': ['Chihuahua (Long Coat)', 'Chihuahua (Smooth Coat)'],\n",
       " 'Dingo': [],\n",
       " 'Bluetick': [],\n",
       " 'Appenzeller': [],\n",
       " 'Dhole': [],\n",
       " 'Cocker Spaniel': ['Spaniel (American Cocker)', 'Spaniel (Cocker)'],\n",
       " 'Walker Hound': [],\n",
       " 'Redbone': [],\n",
       " 'Vizsla': ['Hungarian Vizsla', 'Hungarian Wirehaired Vizsla'],\n",
       " 'Kelpie': [],\n",
       " 'African Hunting Dog': [],\n",
       " 'Mex Hairless': ['Xoloitzcuintle (Mex Hairless) Int (Imp)',\n",
       "  'Xoloitzcuintle (Mex Hairless) Min (Imp)',\n",
       "  'Xoloitzcuintle (Mex Hairless) Std (Imp)'],\n",
       " 'Collie': ['Bearded Collie',\n",
       "  'Border Collie',\n",
       "  'Collie (Rough)',\n",
       "  'Collie (Smooth)']}"
      ]
     },
     "execution_count": 46,
     "metadata": {},
     "output_type": "execute_result"
    }
   ],
   "source": [
    "fails = {}\n",
    "for name in class_names:\n",
    "    cleaned_name = clean_name(name)\n",
    "    matches = list(get_description(cleaned_name).index)\n",
    "    if len(matches) != 1:\n",
    "        fails[cleaned_name] = matches\n",
    "fails"
   ]
  },
  {
   "cell_type": "code",
   "execution_count": 47,
   "id": "a5e48c89",
   "metadata": {
    "ExecuteTime": {
     "end_time": "2023-03-28T08:21:19.828984Z",
     "start_time": "2023-03-28T08:21:19.799751Z"
    }
   },
   "outputs": [
    {
     "data": {
      "text/plain": [
       "13"
      ]
     },
     "execution_count": 47,
     "metadata": {},
     "output_type": "execute_result"
    }
   ],
   "source": [
    "len(fails)"
   ]
  },
  {
   "cell_type": "code",
   "execution_count": 48,
   "id": "0f6a3c33",
   "metadata": {
    "ExecuteTime": {
     "end_time": "2023-03-28T08:22:29.548389Z",
     "start_time": "2023-03-28T08:22:29.482002Z"
    }
   },
   "outputs": [
    {
     "data": {
      "text/html": [
       "<div>\n",
       "<style scoped>\n",
       "    .dataframe tbody tr th:only-of-type {\n",
       "        vertical-align: middle;\n",
       "    }\n",
       "\n",
       "    .dataframe tbody tr th {\n",
       "        vertical-align: top;\n",
       "    }\n",
       "\n",
       "    .dataframe thead th {\n",
       "        text-align: right;\n",
       "    }\n",
       "</style>\n",
       "<table border=\"1\" class=\"dataframe\">\n",
       "  <thead>\n",
       "    <tr style=\"text-align: right;\">\n",
       "      <th></th>\n",
       "      <th>Position</th>\n",
       "      <th>class</th>\n",
       "      <th>size</th>\n",
       "      <th>exercise</th>\n",
       "      <th>size_of_home</th>\n",
       "      <th>grooming</th>\n",
       "      <th>coat_length</th>\n",
       "      <th>sheds</th>\n",
       "      <th>lifespan</th>\n",
       "      <th>vulnerable_native_breed</th>\n",
       "      <th>town_or_country</th>\n",
       "      <th>size_of_garden</th>\n",
       "    </tr>\n",
       "    <tr>\n",
       "      <th>breed_name</th>\n",
       "      <th></th>\n",
       "      <th></th>\n",
       "      <th></th>\n",
       "      <th></th>\n",
       "      <th></th>\n",
       "      <th></th>\n",
       "      <th></th>\n",
       "      <th></th>\n",
       "      <th></th>\n",
       "      <th></th>\n",
       "      <th></th>\n",
       "      <th></th>\n",
       "    </tr>\n",
       "  </thead>\n",
       "  <tbody>\n",
       "    <tr>\n",
       "      <th>Spaniel (American Cocker)</th>\n",
       "      <td>194</td>\n",
       "      <td>GUNDOG</td>\n",
       "      <td>Small</td>\n",
       "      <td>More than 2 hours per day</td>\n",
       "      <td>Small house</td>\n",
       "      <td>Every day</td>\n",
       "      <td>Long</td>\n",
       "      <td>Yes</td>\n",
       "      <td>Over 10 years</td>\n",
       "      <td>No</td>\n",
       "      <td>Either</td>\n",
       "      <td>Large garden</td>\n",
       "    </tr>\n",
       "    <tr>\n",
       "      <th>Spaniel (Cocker)</th>\n",
       "      <td>197</td>\n",
       "      <td>GUNDOG</td>\n",
       "      <td>Small</td>\n",
       "      <td>Up to 1 hour per day</td>\n",
       "      <td>Small house</td>\n",
       "      <td>Every day</td>\n",
       "      <td>Medium</td>\n",
       "      <td>Yes</td>\n",
       "      <td>Over 10 years</td>\n",
       "      <td>No</td>\n",
       "      <td>Either</td>\n",
       "      <td>Small/ medium garden</td>\n",
       "    </tr>\n",
       "  </tbody>\n",
       "</table>\n",
       "</div>"
      ],
      "text/plain": [
       "                           Position   class   size                   exercise  \\\n",
       "breed_name                                                                      \n",
       "Spaniel (American Cocker)       194  GUNDOG  Small  More than 2 hours per day   \n",
       "Spaniel (Cocker)                197  GUNDOG  Small       Up to 1 hour per day   \n",
       "\n",
       "                          size_of_home   grooming coat_length sheds  \\\n",
       "breed_name                                                            \n",
       "Spaniel (American Cocker)  Small house  Every day        Long   Yes   \n",
       "Spaniel (Cocker)           Small house  Every day      Medium   Yes   \n",
       "\n",
       "                                lifespan vulnerable_native_breed  \\\n",
       "breed_name                                                         \n",
       "Spaniel (American Cocker)  Over 10 years                      No   \n",
       "Spaniel (Cocker)           Over 10 years                      No   \n",
       "\n",
       "                          town_or_country        size_of_garden  \n",
       "breed_name                                                       \n",
       "Spaniel (American Cocker)          Either          Large garden  \n",
       "Spaniel (Cocker)                   Either  Small/ medium garden  "
      ]
     },
     "execution_count": 48,
     "metadata": {},
     "output_type": "execute_result"
    }
   ],
   "source": [
    "get_description('Cocker Spaniel')"
   ]
  },
  {
   "cell_type": "code",
   "execution_count": null,
   "id": "c747a6b3",
   "metadata": {},
   "outputs": [],
   "source": []
  }
 ],
 "metadata": {
  "kernelspec": {
   "display_name": "Python 3 (ipykernel)",
   "language": "python",
   "name": "python3"
  },
  "language_info": {
   "codemirror_mode": {
    "name": "ipython",
    "version": 3
   },
   "file_extension": ".py",
   "mimetype": "text/x-python",
   "name": "python",
   "nbconvert_exporter": "python",
   "pygments_lexer": "ipython3",
   "version": "3.10.6"
  },
  "toc": {
   "base_numbering": 1,
   "nav_menu": {},
   "number_sections": true,
   "sideBar": true,
   "skip_h1_title": false,
   "title_cell": "Table of Contents",
   "title_sidebar": "Contents",
   "toc_cell": false,
   "toc_position": {},
   "toc_section_display": true,
   "toc_window_display": false
  },
  "varInspector": {
   "cols": {
    "lenName": 16,
    "lenType": 16,
    "lenVar": 40
   },
   "kernels_config": {
    "python": {
     "delete_cmd_postfix": "",
     "delete_cmd_prefix": "del ",
     "library": "var_list.py",
     "varRefreshCmd": "print(var_dic_list())"
    },
    "r": {
     "delete_cmd_postfix": ") ",
     "delete_cmd_prefix": "rm(",
     "library": "var_list.r",
     "varRefreshCmd": "cat(var_dic_list()) "
    }
   },
   "types_to_exclude": [
    "module",
    "function",
    "builtin_function_or_method",
    "instance",
    "_Feature"
   ],
   "window_display": true
  }
 },
 "nbformat": 4,
 "nbformat_minor": 5
}
