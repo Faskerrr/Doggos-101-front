{
 "cells": [
  {
   "cell_type": "code",
   "execution_count": 1,
   "id": "9c4b16ce",
   "metadata": {
    "ExecuteTime": {
     "end_time": "2023-03-28T07:37:25.231277Z",
     "start_time": "2023-03-28T07:37:24.303578Z"
    }
   },
   "outputs": [],
   "source": [
    "import pandas as pd\n",
    "import os\n",
    "import re\n",
    "import cv2"
   ]
  },
  {
   "cell_type": "code",
   "execution_count": 2,
   "id": "bfc12a75",
   "metadata": {
    "ExecuteTime": {
     "end_time": "2023-03-28T07:37:29.355063Z",
     "start_time": "2023-03-28T07:37:29.336654Z"
    }
   },
   "outputs": [],
   "source": [
    "description_data_path = '../data/uk_kc_characteristics.csv'\n",
    "#description_data = pd.read_csv(description_data_path, index_col='breed_name')"
   ]
  },
  {
   "cell_type": "code",
   "execution_count": 3,
   "id": "40ca32c4",
   "metadata": {
    "ExecuteTime": {
     "end_time": "2023-03-28T07:37:36.528521Z",
     "start_time": "2023-03-28T07:37:36.518929Z"
    }
   },
   "outputs": [
    {
     "data": {
      "text/plain": [
       "['Chihuahua',\n",
       " 'Komondor',\n",
       " 'West_highland_white_terrier',\n",
       " 'Kuvasz',\n",
       " 'Pug',\n",
       " 'Standard_poodle',\n",
       " 'Briard',\n",
       " 'American_staffordshire_terrier',\n",
       " 'Beagle',\n",
       " 'Airedale',\n",
       " 'Old_english_sheepdog',\n",
       " 'Border_collie',\n",
       " 'Bedlington_terrier',\n",
       " 'Irish_terrier',\n",
       " 'English_foxhound',\n",
       " 'Bernese_mountain_dog',\n",
       " 'Leonberg',\n",
       " 'Pembroke',\n",
       " 'Weimaraner',\n",
       " 'Black-and-tan_coonhound',\n",
       " 'Ibizan_hound',\n",
       " 'Irish_wolfhound',\n",
       " 'German_shepherd',\n",
       " 'Tibetan_terrier',\n",
       " 'Irish_setter',\n",
       " 'Papillon',\n",
       " 'Greater_swiss_mountain_dog',\n",
       " 'Miniature_schnauzer',\n",
       " 'Clumber',\n",
       " 'Staffordshire_bullterrier',\n",
       " 'Dingo',\n",
       " 'Cardigan',\n",
       " 'Brabancon_griffon',\n",
       " 'Border_terrier',\n",
       " 'Flat-coated_retriever',\n",
       " 'Brittany_spaniel',\n",
       " 'Australian_terrier',\n",
       " 'English_springer',\n",
       " 'Welsh_springer_spaniel',\n",
       " 'Kerry_blue_terrier',\n",
       " 'Bluetick',\n",
       " 'Lakeland_terrier',\n",
       " 'Affenpinscher',\n",
       " 'Curly-coated_retriever',\n",
       " 'Groenendael',\n",
       " 'Toy_terrier',\n",
       " 'Basset',\n",
       " 'Labrador_retriever',\n",
       " 'Entlebucher',\n",
       " 'Blenheim_spaniel',\n",
       " 'Malamute',\n",
       " 'Samoyed',\n",
       " 'Soft-coated_wheaten_terrier',\n",
       " 'German_short-haired_pointer',\n",
       " 'Miniature_poodle',\n",
       " 'Scotch_terrier',\n",
       " 'Maltese_dog',\n",
       " 'Doberman',\n",
       " 'Yorkshire_terrier',\n",
       " 'Sealyham_terrier',\n",
       " 'Pekinese',\n",
       " 'French_bulldog',\n",
       " 'Chesapeake_bay_retriever',\n",
       " 'Appenzeller',\n",
       " 'Norwich_terrier',\n",
       " 'Siberian_husky',\n",
       " 'Golden_retriever',\n",
       " 'Norfolk_terrier',\n",
       " 'Scottish_deerhound',\n",
       " 'Sussex_spaniel',\n",
       " 'Wire-haired_fox_terrier',\n",
       " 'Standard_schnauzer',\n",
       " 'Afghan_hound',\n",
       " 'Chow',\n",
       " 'Rhodesian_ridgeback',\n",
       " 'Bouvier_des_flandres',\n",
       " 'English_setter',\n",
       " 'Cairn',\n",
       " 'Pomeranian',\n",
       " 'Dhole',\n",
       " 'Newfoundland',\n",
       " 'Tibetan_mastiff',\n",
       " 'Borzoi',\n",
       " 'Italian_greyhound',\n",
       " 'Whippet',\n",
       " 'Giant_schnauzer',\n",
       " 'Cocker_spaniel',\n",
       " 'Gordon_setter',\n",
       " 'Saluki',\n",
       " 'Toy_poodle',\n",
       " 'Walker_hound',\n",
       " 'Redbone',\n",
       " 'Saint_bernard',\n",
       " 'Eskimo_dog',\n",
       " 'Irish_water_spaniel',\n",
       " 'Otterhound',\n",
       " 'Vizsla',\n",
       " 'Kelpie',\n",
       " 'Shih-tzu',\n",
       " 'Bloodhound',\n",
       " 'Lhasa',\n",
       " 'Bull_mastiff',\n",
       " 'Boxer',\n",
       " 'African_hunting_dog',\n",
       " 'Mexican_hairless',\n",
       " 'Great_dane',\n",
       " 'Norwegian_elkhound',\n",
       " 'Dandie_dinmont',\n",
       " 'Collie',\n",
       " 'Shetland_sheepdog',\n",
       " 'Boston_bull',\n",
       " 'Keeshond',\n",
       " 'Basenji',\n",
       " 'Malinois',\n",
       " 'Great_pyrenees',\n",
       " 'Miniature_pinscher',\n",
       " 'Rottweiler',\n",
       " 'Silky_terrier',\n",
       " 'Japanese_spaniel',\n",
       " 'Schipperke']"
      ]
     },
     "execution_count": 3,
     "metadata": {},
     "output_type": "execute_result"
    }
   ],
   "source": [
    "train_images_path = \"../../Doggos-101/raw_data/cropped/train/\"\n",
    "class_names = [\n",
    "    re.findall('n\\d{8}-(.*)', item)[0].capitalize() for item in os.listdir(train_images_path)\n",
    "    ]\n",
    "class_names"
   ]
  },
  {
   "cell_type": "code",
   "execution_count": 4,
   "id": "adfd87ca",
   "metadata": {
    "ExecuteTime": {
     "end_time": "2023-03-28T08:08:43.162692Z",
     "start_time": "2023-03-28T08:08:43.149961Z"
    }
   },
   "outputs": [],
   "source": [
    "def clean_name(name):\n",
    "    ''' converts dog name to match the names used by the kennel club UK'''\n",
    "    name = name.replace('-and-', ' & ')\n",
    "    name = name.replace('_', ' ')\n",
    "    name = name.replace('-', ' ')\n",
    "    name = ' '.join(map(str.capitalize,name.split(' ')))\n",
    "    \n",
    "    correction_dict = {\n",
    "        'Greater': 'Great',\n",
    "        'Short Haired': 'Shorthaired',\n",
    "        'Long Haired': 'Longhaired',\n",
    "        'Bullterrier': 'Bull Terrier',\n",
    "        'Scotch': 'Scottish',\n",
    "        'Saint': 'St.',\n",
    "        'Bull Mastiff': 'Bullmastiff',\n",
    "        'Great Pyrenees': 'Pyrenean Mountain Dog',\n",
    "        'Standard Schnauzer': 'Schnauzer',\n",
    "        'Japanese Spaniel': 'Japanese Chin',\n",
    "        'Boston Bull': 'Boston Terrier',\n",
    "        'Brabancon Griffon': 'Griffon Bruxellois',\n",
    "        'Haired': '',\n",
    "        'Mexican': 'Mex',\n",
    "        'Pekinese': 'Pekingese',\n",
    "        'Basset': 'Basset Hound',\n",
    "        'Bull Dog': 'Bulldog',\n",
    "        'Schnauzer Standard': 'Schnauzer',\n",
    "        'Blenheim Spaniel': 'King Charles Spaniel'\n",
    "    }\n",
    "    for word, correction in correction_dict.items():\n",
    "        name = name.replace(word, correction)\n",
    "    return name"
   ]
  },
  {
   "cell_type": "code",
   "execution_count": 5,
   "id": "b09cc756",
   "metadata": {},
   "outputs": [],
   "source": [
    "def remove_exceptions(descriptions, name):\n",
    "    exceptions_dict = {'Collie': 'Border Collie'}\n",
    "    if name in exceptions_dict.keys():\n",
    "        corrected_descriptions = descriptions.drop(exceptions_dict[name], axis=0)\n",
    "        return corrected_descriptions\n",
    "    return descriptions\n"
   ]
  },
  {
   "cell_type": "code",
   "execution_count": 6,
   "id": "573f2125",
   "metadata": {},
   "outputs": [],
   "source": [
    "def clean_description_data(description_data):\n",
    "    description_data['class'] = description_data['class'].map(str.capitalize)    \n",
    "    description_data['size_of_garden'] = description_data['size_of_garden'].map(lambda x: x.replace('/ medium', ''))\n",
    "    description_data['home'] = description_data[['size_of_home', 'size_of_garden']].agg('<br>'.join, axis=1)\n",
    "    description_data['town_or_country'] = description_data['town_or_country'].map({'Either': 'Yes', 'Country': 'No'})\n",
    "    description_data['exercise'] = description_data['exercise'].map(lambda x: x.replace('per day', '').replace('Up to', '~').replace('More than', '>').replace('minutes', 'mins'))\n",
    "    description_data['grooming'] = description_data['grooming'].map(lambda x: x.replace('More than', 'More than <br>'))\n",
    "    description_data['lifespan'] = description_data['lifespan'].map(lambda x: x.replace('Over', '>').replace('Under', '<'))\n",
    "    description_data['coat_length'] = description_data['coat_length'].map(lambda x: x.replace('&', '<br> &'))\n",
    "\n",
    "    description_data.drop(columns = ['Position', 'vulnerable_native_breed', 'size_of_garden', 'size_of_home'], inplace = True)\n",
    "    description_data.index.name = None\n",
    "    \n",
    "    description_data.columns = ['Class', 'Size', 'Daily exercise', 'Grooming', 'Fur length', 'Fur loss', 'Lifespan', 'City', 'Spacial needs']\n",
    "    return description_data[['Class', 'Size', 'Lifespan', 'Daily exercise', 'Spacial needs', 'City', 'Fur length', 'Fur loss', 'Grooming']]\n",
    "\n",
    "#description_data = pd.read_csv('../data/uk_kc_characteristics.csv', index_col='breed_name')\n",
    "#clean_descriptions(description_data, 'collie')\n"
   ]
  },
  {
   "cell_type": "code",
   "execution_count": 7,
   "id": "8f077d64",
   "metadata": {
    "ExecuteTime": {
     "end_time": "2023-03-28T08:01:15.441126Z",
     "start_time": "2023-03-28T08:01:15.424248Z"
    },
    "scrolled": false
   },
   "outputs": [],
   "source": [
    "def find_exact_kennel_entries(description_data, name):\n",
    "    ''' returns all kennel_club UK entries with indexes that contain ALL words of species_name (order doesn't \n",
    " matter) e.g. Standard Poodle is going to be recognized as Poodle (Standard)'''    \n",
    "    index_in_kennel_data = description_data.index.map(lambda kennel_entry: all(word in kennel_entry for word in name.split()))\n",
    "    return description_data[index_in_kennel_data]"
   ]
  },
  {
   "cell_type": "code",
   "execution_count": 8,
   "id": "5c65b2af",
   "metadata": {
    "ExecuteTime": {
     "end_time": "2023-03-28T08:06:28.120669Z",
     "start_time": "2023-03-28T08:06:28.112486Z"
    }
   },
   "outputs": [],
   "source": [
    "def find_approximate_kennel_entries(description_data, name):\n",
    "    ''' # returns kennel_club UK entries with indexes that contains ONE word of species_name ; common words like \"dog\" or \"hound\" are ignored'''\n",
    "    for word in ['Dog', 'English', 'Terrier', 'American', 'Spaniel', 'Haired', 'Wire', 'Japanese', 'Hound', 'Scottish']:\n",
    "        name = name.replace(word, '')\n",
    "    index_in_kennel_data = description_data.index.map(lambda kennel_entry: any(word in kennel_entry for word in name.split()))\n",
    "    return description_data[index_in_kennel_data]"
   ]
  },
  {
   "cell_type": "code",
   "execution_count": 14,
   "id": "c686b345",
   "metadata": {
    "ExecuteTime": {
     "end_time": "2023-03-28T08:01:20.060125Z",
     "start_time": "2023-03-28T08:01:20.049846Z"
    }
   },
   "outputs": [],
   "source": [
    "def get_description(description_data_path, species_name):\n",
    "    description_data = pd.read_csv(description_data_path, index_col='breed_name')\n",
    "    description_data = clean_description_data(description_data)\n",
    "    cleaned_name = clean_name(species_name)\n",
    "    \n",
    "    #print(f'Showing results for {correction} instead of {word}')\n",
    "    if cleaned_name in description_data.index:\n",
    "        descriptions = description_data.loc[[cleaned_name],:]\n",
    "    elif not find_exact_kennel_entries(description_data, cleaned_name).empty:\n",
    "        descriptions = find_exact_kennel_entries(description_data, cleaned_name)\n",
    "    else:\n",
    "        descriptions = find_approximate_kennel_entries(description_data, cleaned_name)\n",
    "    return remove_exceptions(descriptions, cleaned_name).style\n",
    "    # .style is necessary so that the output shows the \"<br>\" introduced in \n",
    "    #  clean_description_data as linebreaks in the dataframe"
   ]
  },
  {
   "cell_type": "code",
   "execution_count": 15,
   "id": "5d8d4496",
   "metadata": {
    "ExecuteTime": {
     "end_time": "2023-03-28T08:28:23.429556Z",
     "start_time": "2023-03-28T08:28:23.422801Z"
    },
    "scrolled": true
   },
   "outputs": [],
   "source": [
    "#import matplotlib.pyplot as plt\n",
    "#image_path = train_images_path\n",
    "#for folder in os.listdir(image_path):\n",
    "#    file = os.listdir(image_path + folder)[0]\n",
    "#    name = re.findall('n\\d{8}-(.*)', folder)[0]\n",
    "#    abc = os.path.join(image_path, folder, file)\n",
    "#    image= cv2.imread(abc)\n",
    "#    rgb_image = cv2.cvtColor(image, cv2.COLOR_BGR2RGB)\n",
    "#    plt.figure(figsize=(16,8))\n",
    "#    plt.imshow(rgb_image)\n",
    "#    plt.title(f'Class name: {name} \\n Kennel entry: {\",\".join(list(get_description(name).index))}')\n",
    "#    plt.show()"
   ]
  },
  {
   "cell_type": "code",
   "execution_count": 16,
   "id": "245157a9",
   "metadata": {
    "ExecuteTime": {
     "end_time": "2023-03-28T08:08:50.217418Z",
     "start_time": "2023-03-28T08:08:50.037077Z"
    }
   },
   "outputs": [
    {
     "data": {
      "text/plain": [
       "{'Chihuahua': ['Chihuahua (Long Coat)', 'Chihuahua (Smooth Coat)'],\n",
       " 'Dingo': [],\n",
       " 'Bluetick': [],\n",
       " 'Appenzeller': [],\n",
       " 'Dhole': [],\n",
       " 'Cocker Spaniel': ['Spaniel (American Cocker)', 'Spaniel (Cocker)'],\n",
       " 'Walker Hound': [],\n",
       " 'Redbone': [],\n",
       " 'Vizsla': ['Hungarian Vizsla', 'Hungarian Wirehaired Vizsla'],\n",
       " 'Kelpie': [],\n",
       " 'African Hunting Dog': [],\n",
       " 'Mex Hairless': ['Xoloitzcuintle (Mex Hairless) Int (Imp)',\n",
       "  'Xoloitzcuintle (Mex Hairless) Min (Imp)',\n",
       "  'Xoloitzcuintle (Mex Hairless) Std (Imp)'],\n",
       " 'Collie': ['Bearded Collie', 'Collie (Rough)', 'Collie (Smooth)']}"
      ]
     },
     "execution_count": 16,
     "metadata": {},
     "output_type": "execute_result"
    }
   ],
   "source": [
    "fails = {}\n",
    "for name in class_names:\n",
    "    cleaned_name = clean_name(name)\n",
    "    matches = list(get_description(description_data_path, cleaned_name).index)\n",
    "    if len(matches) != 1:\n",
    "        fails[cleaned_name] = matches\n",
    "fails"
   ]
  },
  {
   "cell_type": "code",
   "execution_count": 17,
   "id": "a5e48c89",
   "metadata": {
    "ExecuteTime": {
     "end_time": "2023-03-28T08:21:19.828984Z",
     "start_time": "2023-03-28T08:21:19.799751Z"
    }
   },
   "outputs": [
    {
     "data": {
      "text/plain": [
       "13"
      ]
     },
     "execution_count": 17,
     "metadata": {},
     "output_type": "execute_result"
    }
   ],
   "source": [
    "len(fails)"
   ]
  },
  {
   "cell_type": "code",
   "execution_count": 18,
   "id": "0f6a3c33",
   "metadata": {
    "ExecuteTime": {
     "end_time": "2023-03-28T08:22:29.548389Z",
     "start_time": "2023-03-28T08:22:29.482002Z"
    }
   },
   "outputs": [
    {
     "data": {
      "text/html": [
       "<style type=\"text/css\">\n",
       "</style>\n",
       "<table id=\"T_a1eb0\">\n",
       "  <thead>\n",
       "    <tr>\n",
       "      <th class=\"blank level0\" >&nbsp;</th>\n",
       "      <th id=\"T_a1eb0_level0_col0\" class=\"col_heading level0 col0\" >Class</th>\n",
       "      <th id=\"T_a1eb0_level0_col1\" class=\"col_heading level0 col1\" >Size</th>\n",
       "      <th id=\"T_a1eb0_level0_col2\" class=\"col_heading level0 col2\" >Lifespan</th>\n",
       "      <th id=\"T_a1eb0_level0_col3\" class=\"col_heading level0 col3\" >Daily exercise</th>\n",
       "      <th id=\"T_a1eb0_level0_col4\" class=\"col_heading level0 col4\" >Spacial needs</th>\n",
       "      <th id=\"T_a1eb0_level0_col5\" class=\"col_heading level0 col5\" >City</th>\n",
       "      <th id=\"T_a1eb0_level0_col6\" class=\"col_heading level0 col6\" >Fur length</th>\n",
       "      <th id=\"T_a1eb0_level0_col7\" class=\"col_heading level0 col7\" >Fur loss</th>\n",
       "      <th id=\"T_a1eb0_level0_col8\" class=\"col_heading level0 col8\" >Grooming</th>\n",
       "    </tr>\n",
       "  </thead>\n",
       "  <tbody>\n",
       "    <tr>\n",
       "      <th id=\"T_a1eb0_level0_row0\" class=\"row_heading level0 row0\" >Bearded Collie</th>\n",
       "      <td id=\"T_a1eb0_row0_col0\" class=\"data row0 col0\" >Pastoral</td>\n",
       "      <td id=\"T_a1eb0_row0_col1\" class=\"data row0 col1\" >Medium</td>\n",
       "      <td id=\"T_a1eb0_row0_col2\" class=\"data row0 col2\" >> 12 years</td>\n",
       "      <td id=\"T_a1eb0_row0_col3\" class=\"data row0 col3\" >~ 1 hour </td>\n",
       "      <td id=\"T_a1eb0_row0_col4\" class=\"data row0 col4\" >Large house<br>Large garden</td>\n",
       "      <td id=\"T_a1eb0_row0_col5\" class=\"data row0 col5\" >Yes</td>\n",
       "      <td id=\"T_a1eb0_row0_col6\" class=\"data row0 col6\" >Long</td>\n",
       "      <td id=\"T_a1eb0_row0_col7\" class=\"data row0 col7\" >Yes</td>\n",
       "      <td id=\"T_a1eb0_row0_col8\" class=\"data row0 col8\" >Every day</td>\n",
       "    </tr>\n",
       "    <tr>\n",
       "      <th id=\"T_a1eb0_level0_row1\" class=\"row_heading level0 row1\" >Collie (Rough)</th>\n",
       "      <td id=\"T_a1eb0_row1_col0\" class=\"data row1 col0\" >Pastoral</td>\n",
       "      <td id=\"T_a1eb0_row1_col1\" class=\"data row1 col1\" >Medium</td>\n",
       "      <td id=\"T_a1eb0_row1_col2\" class=\"data row1 col2\" >> 12 years</td>\n",
       "      <td id=\"T_a1eb0_row1_col3\" class=\"data row1 col3\" >~ 1 hour </td>\n",
       "      <td id=\"T_a1eb0_row1_col4\" class=\"data row1 col4\" >Small house<br>Large garden</td>\n",
       "      <td id=\"T_a1eb0_row1_col5\" class=\"data row1 col5\" >Yes</td>\n",
       "      <td id=\"T_a1eb0_row1_col6\" class=\"data row1 col6\" >Medium</td>\n",
       "      <td id=\"T_a1eb0_row1_col7\" class=\"data row1 col7\" >Yes</td>\n",
       "      <td id=\"T_a1eb0_row1_col8\" class=\"data row1 col8\" >Every day</td>\n",
       "    </tr>\n",
       "    <tr>\n",
       "      <th id=\"T_a1eb0_level0_row2\" class=\"row_heading level0 row2\" >Collie (Smooth)</th>\n",
       "      <td id=\"T_a1eb0_row2_col0\" class=\"data row2 col0\" >Pastoral</td>\n",
       "      <td id=\"T_a1eb0_row2_col1\" class=\"data row2 col1\" >Medium</td>\n",
       "      <td id=\"T_a1eb0_row2_col2\" class=\"data row2 col2\" >> 10 years</td>\n",
       "      <td id=\"T_a1eb0_row2_col3\" class=\"data row2 col3\" >~ 1 hour </td>\n",
       "      <td id=\"T_a1eb0_row2_col4\" class=\"data row2 col4\" >Small house<br>Large garden</td>\n",
       "      <td id=\"T_a1eb0_row2_col5\" class=\"data row2 col5\" >Yes</td>\n",
       "      <td id=\"T_a1eb0_row2_col6\" class=\"data row2 col6\" >Short</td>\n",
       "      <td id=\"T_a1eb0_row2_col7\" class=\"data row2 col7\" >Yes</td>\n",
       "      <td id=\"T_a1eb0_row2_col8\" class=\"data row2 col8\" >Once a week</td>\n",
       "    </tr>\n",
       "  </tbody>\n",
       "</table>\n"
      ],
      "text/plain": [
       "<pandas.io.formats.style.Styler at 0x7fcb7e033700>"
      ]
     },
     "execution_count": 18,
     "metadata": {},
     "output_type": "execute_result"
    }
   ],
   "source": [
    "get_description(description_data_path, 'Collie')"
   ]
  },
  {
   "cell_type": "code",
   "execution_count": null,
   "metadata": {},
   "outputs": [],
   "source": []
  },
  {
   "cell_type": "code",
   "execution_count": null,
   "id": "c747a6b3",
   "metadata": {},
   "outputs": [],
   "source": []
  }
 ],
 "metadata": {
  "kernelspec": {
   "display_name": "Python 3 (ipykernel)",
   "language": "python",
   "name": "python3"
  },
  "language_info": {
   "codemirror_mode": {
    "name": "ipython",
    "version": 3
   },
   "file_extension": ".py",
   "mimetype": "text/x-python",
   "name": "python",
   "nbconvert_exporter": "python",
   "pygments_lexer": "ipython3",
   "version": "3.10.6"
  },
  "toc": {
   "base_numbering": 1,
   "nav_menu": {},
   "number_sections": true,
   "sideBar": true,
   "skip_h1_title": false,
   "title_cell": "Table of Contents",
   "title_sidebar": "Contents",
   "toc_cell": false,
   "toc_position": {},
   "toc_section_display": true,
   "toc_window_display": false
  },
  "varInspector": {
   "cols": {
    "lenName": 16,
    "lenType": 16,
    "lenVar": 40
   },
   "kernels_config": {
    "python": {
     "delete_cmd_postfix": "",
     "delete_cmd_prefix": "del ",
     "library": "var_list.py",
     "varRefreshCmd": "print(var_dic_list())"
    },
    "r": {
     "delete_cmd_postfix": ") ",
     "delete_cmd_prefix": "rm(",
     "library": "var_list.r",
     "varRefreshCmd": "cat(var_dic_list()) "
    }
   },
   "types_to_exclude": [
    "module",
    "function",
    "builtin_function_or_method",
    "instance",
    "_Feature"
   ],
   "window_display": true
  }
 },
 "nbformat": 4,
 "nbformat_minor": 5
}
