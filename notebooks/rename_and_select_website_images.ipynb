{
 "cells": [
  {
   "cell_type": "code",
   "execution_count": 25,
   "id": "cf91e8da",
   "metadata": {
    "ExecuteTime": {
     "end_time": "2023-03-28T20:31:15.513217Z",
     "start_time": "2023-03-28T20:31:15.489139Z"
    }
   },
   "outputs": [],
   "source": [
    "import os\n",
    "import regex as re\n",
    "from PIL import Image\n",
    "import matplotlib.pyplot as plt\n",
    "import cv2\n",
    "\n",
    "path = '/home/s/Downloads/archive (1)/images/Images/'"
   ]
  },
  {
   "cell_type": "code",
   "execution_count": 3,
   "id": "d613cce0",
   "metadata": {
    "ExecuteTime": {
     "end_time": "2023-03-28T17:56:26.630296Z",
     "start_time": "2023-03-28T17:56:26.058525Z"
    }
   },
   "outputs": [],
   "source": [
    "for folder in os.listdir(path):\n",
    "    breed = re.findall('n\\d{8}-(.*)', folder)[0]\n",
    "    folder_path = os.path.join(path, folder)\n",
    "    i = 0\n",
    "    for file in os.listdir(folder_path):\n",
    "        i += 1\n",
    "        os.rename(os.path.join(folder_path, file), os.path.join(folder_path, breed + str(i).rjust(3, '0') + '.jpg'))"
   ]
  },
  {
   "cell_type": "code",
   "execution_count": 7,
   "id": "97f1f271",
   "metadata": {
    "ExecuteTime": {
     "end_time": "2023-03-28T18:00:27.324691Z",
     "start_time": "2023-03-28T18:00:25.615642Z"
    }
   },
   "outputs": [],
   "source": [
    "! find ./Images -name \"*001.jpg\" -exec cp -t ./example_images/ {} +\n",
    "! find ./Images -name \"*002.jpg\" -exec cp -t ./example_images/ {} +\n",
    "! find ./Images -name \"*003.jpg\" -exec cp -t ./example_images/ {} +\n",
    "! find ./Images -name \"*004.jpg\" -exec cp -t ./example_images/ {} +\n",
    "! find ./Images -name \"*005.jpg\" -exec cp -t ./example_images/ {} +\n",
    "! find ./Images -name \"*006.jpg\" -exec cp -t ./example_images/ {} +\n",
    "! find ./Images -name \"*007.jpg\" -exec cp -t ./example_images/ {} +\n",
    "! find ./Images -name \"*008.jpg\" -exec cp -t ./example_images/ {} +\n",
    "! find ./Images -name \"*009.jpg\" -exec cp -t ./example_images/ {} +\n",
    "! find ./Images -name \"*010.jpg\" -exec cp -t ./example_images/ {} +"
   ]
  },
  {
   "cell_type": "code",
   "execution_count": 26,
   "id": "16804db0",
   "metadata": {
    "ExecuteTime": {
     "end_time": "2023-03-28T20:32:11.187822Z",
     "start_time": "2023-03-28T20:32:10.321459Z"
    }
   },
   "outputs": [],
   "source": [
    "new_height = 224\n",
    "\n",
    "path = \"/home/s/Downloads/archive (1)/images/example_images/\"\n",
    "dirs = os.listdir( path )\n",
    "for item in dirs:\n",
    "    if os.path.isfile(path+item):\n",
    "        img = cv.imread(path+item)\n",
    "        #plt.imshow(img)\n",
    "        h, w = img.shape[:2]\n",
    "        aspect = w/h\n",
    "        img = cv2.resize(img, (int(aspect*new_height), new_height))\n",
    "        f, e = os.path.splitext(path+item)\n",
    "        cv2.imwrite(f + '.jpg', img)"
   ]
  },
  {
   "cell_type": "code",
   "execution_count": null,
   "id": "9d5da28b",
   "metadata": {},
   "outputs": [],
   "source": []
  }
 ],
 "metadata": {
  "kernelspec": {
   "display_name": "Python 3 (ipykernel)",
   "language": "python",
   "name": "python3"
  },
  "language_info": {
   "codemirror_mode": {
    "name": "ipython",
    "version": 3
   },
   "file_extension": ".py",
   "mimetype": "text/x-python",
   "name": "python",
   "nbconvert_exporter": "python",
   "pygments_lexer": "ipython3",
   "version": "3.10.6"
  },
  "toc": {
   "base_numbering": 1,
   "nav_menu": {},
   "number_sections": true,
   "sideBar": true,
   "skip_h1_title": false,
   "title_cell": "Table of Contents",
   "title_sidebar": "Contents",
   "toc_cell": false,
   "toc_position": {},
   "toc_section_display": true,
   "toc_window_display": false
  },
  "varInspector": {
   "cols": {
    "lenName": 16,
    "lenType": 16,
    "lenVar": 40
   },
   "kernels_config": {
    "python": {
     "delete_cmd_postfix": "",
     "delete_cmd_prefix": "del ",
     "library": "var_list.py",
     "varRefreshCmd": "print(var_dic_list())"
    },
    "r": {
     "delete_cmd_postfix": ") ",
     "delete_cmd_prefix": "rm(",
     "library": "var_list.r",
     "varRefreshCmd": "cat(var_dic_list()) "
    }
   },
   "types_to_exclude": [
    "module",
    "function",
    "builtin_function_or_method",
    "instance",
    "_Feature"
   ],
   "window_display": true
  }
 },
 "nbformat": 4,
 "nbformat_minor": 5
}
